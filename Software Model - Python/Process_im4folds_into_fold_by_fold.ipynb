{
 "cells": [
  {
   "cell_type": "markdown",
   "metadata": {},
   "source": [
    "#### This notebook converts im4folds.txt into a list of 500 bit wide ims. This is specifically for the SEFUAM_SVM_Channel_Count_Experiment, where it is much easier to just send in 500 bit values row by row into the testbench->SRAMs. (It's easier to index in python than verilog)\n",
    "\n",
    "##### The current way of writing to im4folds_foldbyfold is not exactly how it should be done if we want to specifically target our 32-77-105 channel design correctly. We would need to actually index the ims correctly, and skip 32nd, (32+77)th, and (32+77+105)th generated ims."
   ]
  },
  {
   "cell_type": "code",
   "execution_count": 30,
   "metadata": {},
   "outputs": [],
   "source": [
    "im4folds = open('tb_database/foldedrule90_4folds_serial_circular/im_4folds.txt', 'r')\n",
    "im4folds_foldbyfold = open('tb_database/foldedrule90_4folds_serial_circular/im_4folds_foldbyfold.txt', 'w')"
   ]
  },
  {
   "cell_type": "code",
   "execution_count": 31,
   "metadata": {},
   "outputs": [],
   "source": [
    "ims = im4folds.readlines()"
   ]
  },
  {
   "cell_type": "code",
   "execution_count": 32,
   "metadata": {},
   "outputs": [],
   "source": [
    "folded_im_list = []"
   ]
  },
  {
   "cell_type": "code",
   "execution_count": 33,
   "metadata": {},
   "outputs": [],
   "source": [
    "for im in ims:\n",
    "    folded_im_list.append(im[0:500])\n",
    "    \n",
    "for im in ims:\n",
    "    folded_im_list.append(im[500:1000])\n",
    "    \n",
    "for im in ims:\n",
    "    folded_im_list.append(im[1000:1500])\n",
    "    \n",
    "for im in ims:\n",
    "    folded_im_list.append(im[1500:2000])"
   ]
  },
  {
   "cell_type": "code",
   "execution_count": 34,
   "metadata": {},
   "outputs": [
    {
     "data": {
      "text/plain": [
       "868"
      ]
     },
     "execution_count": 34,
     "metadata": {},
     "output_type": "execute_result"
    }
   ],
   "source": [
    "len(folded_im_list)"
   ]
  },
  {
   "cell_type": "code",
   "execution_count": 35,
   "metadata": {},
   "outputs": [],
   "source": [
    "for im in folded_im_list:\n",
    "    im4folds_foldbyfold.write(im+'\\n')\n",
    "    \n",
    "im4folds_foldbyfold.close()"
   ]
  },
  {
   "cell_type": "code",
   "execution_count": null,
   "metadata": {},
   "outputs": [],
   "source": []
  }
 ],
 "metadata": {
  "kernelspec": {
   "display_name": "Python 3",
   "language": "python",
   "name": "python3"
  },
  "language_info": {
   "codemirror_mode": {
    "name": "ipython",
    "version": 3
   },
   "file_extension": ".py",
   "mimetype": "text/x-python",
   "name": "python",
   "nbconvert_exporter": "python",
   "pygments_lexer": "ipython3",
   "version": "3.8.5"
  }
 },
 "nbformat": 4,
 "nbformat_minor": 4
}
