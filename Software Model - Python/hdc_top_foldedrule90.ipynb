{
 "cells": [
  {
   "cell_type": "code",
   "execution_count": 85,
   "metadata": {},
   "outputs": [],
   "source": [
    "import sys\n",
    "sys.path.append('/Library/Frameworks/Python.framework/Versions/3.9/lib/python3.9/site-packages')"
   ]
  },
  {
   "cell_type": "code",
   "execution_count": 86,
   "metadata": {},
   "outputs": [],
   "source": [
    "import os"
   ]
  },
  {
   "cell_type": "code",
   "execution_count": 87,
   "metadata": {},
   "outputs": [],
   "source": [
    "import hdc_top_foldedrule90"
   ]
  },
  {
   "cell_type": "code",
   "execution_count": 88,
   "metadata": {},
   "outputs": [],
   "source": [
    "# Edit this to try out and generate accuracies/vectors for different folds!\n",
    "num_folds=100"
   ]
  },
  {
   "cell_type": "code",
   "execution_count": 89,
   "metadata": {},
   "outputs": [],
   "source": [
    "hdc_top_1 = hdc_top_foldedrule90.HDCTop('database/fm.csv', 'database/seed_hv.csv', is_early_fusion=True, num_folds=num_folds)"
   ]
  },
  {
   "cell_type": "code",
   "execution_count": 90,
   "metadata": {},
   "outputs": [],
   "source": [
    "hdc_top_1.train_am()"
   ]
  },
  {
   "cell_type": "code",
   "execution_count": 91,
   "metadata": {},
   "outputs": [],
   "source": [
    "hdc_top_1.test()"
   ]
  },
  {
   "cell_type": "code",
   "execution_count": 92,
   "metadata": {},
   "outputs": [
    {
     "data": {
      "text/plain": [
       "0.5846560846560847"
      ]
     },
     "execution_count": 92,
     "metadata": {},
     "output_type": "execute_result"
    }
   ],
   "source": [
    "hdc_top_1.prediction_success_rate"
   ]
  },
  {
   "cell_type": "code",
   "execution_count": 93,
   "metadata": {},
   "outputs": [
    {
     "data": {
      "text/plain": [
       "0.8201058201058201"
      ]
     },
     "execution_count": 93,
     "metadata": {},
     "output_type": "execute_result"
    }
   ],
   "source": [
    "hdc_top_1.prediction_v_success_rate"
   ]
  },
  {
   "cell_type": "code",
   "execution_count": 94,
   "metadata": {},
   "outputs": [
    {
     "data": {
      "text/plain": [
       "0.7328042328042328"
      ]
     },
     "execution_count": 94,
     "metadata": {},
     "output_type": "execute_result"
    }
   ],
   "source": [
    "hdc_top_1.prediction_a_success_rate"
   ]
  },
  {
   "cell_type": "code",
   "execution_count": null,
   "metadata": {},
   "outputs": [],
   "source": [
    "# These vectors are generated without the first 2 expected values\n",
    "\n",
    "dirname = os.path.dirname(\"tb_database/foldedrule90_{f}folds/expected_v_{f}folds.txt\".format(f=num_folds))\n",
    "if not os.path.exists(dirname):\n",
    "    os.makedirs(dirname)\n",
    "\n",
    "dirname = os.path.dirname(\"tb_database/foldedrule90_{f}folds/expected_a_{f}folds.txt\".format(f=num_folds))\n",
    "if not os.path.exists(dirname):\n",
    "    os.makedirs(dirname)\n",
    "\n",
    "expected_v_file = open(\"tb_database/foldedrule90_{f}folds/expected_v_{f}folds.txt\".format(f=num_folds),\"w\")\n",
    "expected_a_file = open(\"tb_database/foldedrule90_{f}folds/expected_a_{f}folds.txt\".format(f=num_folds),\"w\")\n",
    "\n",
    "for val in hdc_top_1.predicted_v_history:\n",
    "    expected_v_file.write(str(val)+\"\\n\")\n",
    "    \n",
    "for val in hdc_top_1.predicted_a_history:\n",
    "    expected_a_file.write(str(val)+\"\\n\")\n",
    "    \n",
    "expected_v_file.close()\n",
    "expected_a_file.close()"
   ]
  },
  {
   "cell_type": "code",
   "execution_count": null,
   "metadata": {},
   "outputs": [],
   "source": [
    "dirname = os.path.dirname(\"tb_database/foldedrule90_{f}folds/prototypes_{f}folds.txt\".format(f=num_folds))\n",
    "if not os.path.exists(dirname):\n",
    "    os.makedirs(dirname)\n",
    "\n",
    "prototypes_file = open(\"tb_database/foldedrule90_{f}folds/prototypes_{f}folds.txt\".format(f=num_folds),\"w\")\n",
    "\n",
    "for val in hdc_top_1.associative_memory.prototype_v_plus:\n",
    "    prototypes_file.write(str(val))\n",
    "prototypes_file.write(\"\\n\")\n",
    "\n",
    "for val in hdc_top_1.associative_memory.prototype_v_min:\n",
    "    prototypes_file.write(str(val))\n",
    "prototypes_file.write(\"\\n\")\n",
    "\n",
    "for val in hdc_top_1.associative_memory.prototype_a_high:\n",
    "    prototypes_file.write(str(val))\n",
    "prototypes_file.write(\"\\n\")\n",
    "\n",
    "for val in hdc_top_1.associative_memory.prototype_a_low:\n",
    "    prototypes_file.write(str(val))\n",
    "prototypes_file.write(\"\\n\")\n",
    "\n",
    "prototypes_file.close()"
   ]
  },
  {
   "cell_type": "code",
   "execution_count": null,
   "metadata": {},
   "outputs": [],
   "source": [
    "dirname = os.path.dirname(\"tb_database/foldedrule90_{f}folds/seed.txt\".format(f=num_folds))\n",
    "if not os.path.exists(dirname):\n",
    "    os.makedirs(dirname)\n",
    "\n",
    "dirname = os.path.dirname(\"tb_database/foldedrule90_{f}folds/im_{f}folds.txt\".format(f=num_folds))\n",
    "if not os.path.exists(dirname):\n",
    "    os.makedirs(dirname)\n",
    "\n",
    "dirname = os.path.dirname(\"tb_database/foldedrule90_{f}folds/projm_pos.txt\".format(f=num_folds))\n",
    "if not os.path.exists(dirname):\n",
    "    os.makedirs(dirname)\n",
    "\n",
    "dirname = os.path.dirname(\"tb_database/foldedrule90_{f}folds/projm_neg.txt\".format(f=num_folds))\n",
    "if not os.path.exists(dirname):\n",
    "    os.makedirs(dirname)\n",
    "\n",
    "seed_file = open(\"tb_database/foldedrule90_{f}folds/seed.txt\".format(f=num_folds),\"w\")\n",
    "\n",
    "im_file = open(\"tb_database/foldedrule90_{f}folds/im_{f}folds.txt\".format(f=num_folds),\"w\")\n",
    "projm_pos_file = open(\"tb_database/foldedrule90_{f}folds/projm_pos.txt\".format(f=num_folds),\"w\")\n",
    "projm_neg_file = open(\"tb_database/foldedrule90_{f}folds/projm_neg.txt\".format(f=num_folds),\"w\")\n",
    "\n",
    "for val in hdc_top_1.seed_hv:\n",
    "    seed_file.write(str(val))\n",
    "seed_file.write(\"\\n\")\n",
    "\n",
    "for hv in hdc_top_1.im:\n",
    "    for val in hv:\n",
    "        im_file.write(str(val))\n",
    "    im_file.write(\"\\n\")\n",
    "    \n",
    "for val in hdc_top_1.projm_pos:\n",
    "    projm_pos_file.write(str(val))\n",
    "projm_pos_file.write(\"\\n\")\n",
    "    \n",
    "for val in hdc_top_1.projm_neg:\n",
    "    projm_neg_file.write(str(val))\n",
    "projm_neg_file.write(\"\\n\")\n",
    "\n",
    "seed_file.close()\n",
    "im_file.close()\n",
    "projm_pos_file.close()\n",
    "projm_neg_file.close()"
   ]
  },
  {
   "cell_type": "code",
   "execution_count": null,
   "metadata": {},
   "outputs": [],
   "source": [
    "len(hdc_top_1.im)"
   ]
  },
  {
   "cell_type": "code",
   "execution_count": null,
   "metadata": {},
   "outputs": [],
   "source": []
  }
 ],
 "metadata": {
  "kernelspec": {
   "display_name": "Python 3",
   "language": "python",
   "name": "python3"
  },
  "language_info": {
   "codemirror_mode": {
    "name": "ipython",
    "version": 3
   },
   "file_extension": ".py",
   "mimetype": "text/x-python",
   "name": "python",
   "nbconvert_exporter": "python",
   "pygments_lexer": "ipython3",
   "version": "3.9.0"
  }
 },
 "nbformat": 4,
 "nbformat_minor": 4
}
