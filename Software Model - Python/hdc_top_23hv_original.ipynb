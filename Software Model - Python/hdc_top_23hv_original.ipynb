{
 "cells": [
  {
   "cell_type": "code",
   "execution_count": 1,
   "metadata": {},
   "outputs": [],
   "source": [
    "import hdc_top"
   ]
  },
  {
   "cell_type": "code",
   "execution_count": 2,
   "metadata": {},
   "outputs": [
    {
     "name": "stdout",
     "output_type": "stream",
     "text": [
      "Early Fusion:\n",
      "prediction_success_rate   : 0.5767195767195767\n",
      "prediction_v_success_rate : 0.791005291005291\n",
      "prediction_a_success_rate : 0.7301587301587301\n"
     ]
    }
   ],
   "source": [
    "hdc_top_1 = hdc_top.HDCTop('database/fm.csv', \n",
    "                           'database/23hv/rand1_original_proj_pos.csv', 'database/23hv/rand1_original_proj_neg.csv',\n",
    "                           'database/23hv/rand1_original_proj_pos.csv', 'database/23hv/rand1_original_proj_neg.csv',\n",
    "                           'database/23hv/rand1_original_proj_pos.csv', 'database/23hv/rand1_original_proj_neg.csv',\n",
    "                           'database/23hv/rand1_original_im.csv',\n",
    "                           is_early_fusion=True)\n",
    "\n",
    "hdc_top_1.train_am()\n",
    "hdc_top_1.test()\n",
    "\n",
    "print(\"Early Fusion:\")\n",
    "print(\"prediction_success_rate   : \" + str(hdc_top_1.prediction_success_rate))\n",
    "print(\"prediction_v_success_rate : \" + str(hdc_top_1.prediction_v_success_rate))\n",
    "print(\"prediction_a_success_rate : \" + str(hdc_top_1.prediction_a_success_rate))"
   ]
  },
  {
   "cell_type": "code",
   "execution_count": 3,
   "metadata": {},
   "outputs": [
    {
     "name": "stdout",
     "output_type": "stream",
     "text": [
      "Late Fusion:\n",
      "prediction_success_rate   : 0.6190476190476191\n",
      "prediction_v_success_rate : 0.8015873015873016\n",
      "prediction_a_success_rate : 0.7433862433862434\n"
     ]
    }
   ],
   "source": [
    "hdc_top_1.reset()\n",
    "hdc_top_1.is_early_fusion = False\n",
    "\n",
    "hdc_top_1.train_am()\n",
    "hdc_top_1.test()\n",
    "\n",
    "print(\"Late Fusion:\")\n",
    "print(\"prediction_success_rate   : \" + str(hdc_top_1.prediction_success_rate))\n",
    "print(\"prediction_v_success_rate : \" + str(hdc_top_1.prediction_v_success_rate))\n",
    "print(\"prediction_a_success_rate : \" + str(hdc_top_1.prediction_a_success_rate))"
   ]
  },
  {
   "cell_type": "code",
   "execution_count": 4,
   "metadata": {},
   "outputs": [
    {
     "name": "stdout",
     "output_type": "stream",
     "text": [
      "Early Fusion:\n",
      "prediction_success_rate   : 0.6243386243386243\n",
      "prediction_v_success_rate : 0.8227513227513228\n",
      "prediction_a_success_rate : 0.7671957671957672\n"
     ]
    }
   ],
   "source": [
    "hdc_top_2 = hdc_top.HDCTop('database/fm.csv', \n",
    "                           'database/23hv/rand2_original_proj_pos.csv', 'database/23hv/rand2_original_proj_neg.csv',\n",
    "                           'database/23hv/rand2_original_proj_pos.csv', 'database/23hv/rand2_original_proj_neg.csv',\n",
    "                           'database/23hv/rand2_original_proj_pos.csv', 'database/23hv/rand2_original_proj_neg.csv',\n",
    "                           'database/23hv/rand2_original_im.csv',\n",
    "                           is_early_fusion=True)\n",
    "\n",
    "hdc_top_2.train_am()\n",
    "hdc_top_2.test()\n",
    "\n",
    "print(\"Early Fusion:\")\n",
    "print(\"prediction_success_rate   : \" + str(hdc_top_2.prediction_success_rate))\n",
    "print(\"prediction_v_success_rate : \" + str(hdc_top_2.prediction_v_success_rate))\n",
    "print(\"prediction_a_success_rate : \" + str(hdc_top_2.prediction_a_success_rate))"
   ]
  },
  {
   "cell_type": "code",
   "execution_count": 5,
   "metadata": {},
   "outputs": [
    {
     "name": "stdout",
     "output_type": "stream",
     "text": [
      "Late Fusion:\n",
      "prediction_success_rate   : 0.5661375661375662\n",
      "prediction_v_success_rate : 0.7566137566137566\n",
      "prediction_a_success_rate : 0.7566137566137566\n"
     ]
    }
   ],
   "source": [
    "hdc_top_2.reset()\n",
    "hdc_top_2.is_early_fusion = False\n",
    "\n",
    "hdc_top_2.train_am()\n",
    "hdc_top_2.test()\n",
    "\n",
    "print(\"Late Fusion:\")\n",
    "print(\"prediction_success_rate   : \" + str(hdc_top_2.prediction_success_rate))\n",
    "print(\"prediction_v_success_rate : \" + str(hdc_top_2.prediction_v_success_rate))\n",
    "print(\"prediction_a_success_rate : \" + str(hdc_top_2.prediction_a_success_rate))"
   ]
  },
  {
   "cell_type": "code",
   "execution_count": 6,
   "metadata": {},
   "outputs": [
    {
     "name": "stdout",
     "output_type": "stream",
     "text": [
      "Early Fusion:\n",
      "prediction_success_rate   : 0.6005291005291006\n",
      "prediction_v_success_rate : 0.791005291005291\n",
      "prediction_a_success_rate : 0.753968253968254\n"
     ]
    }
   ],
   "source": [
    "hdc_top_3 = hdc_top.HDCTop('database/fm.csv', \n",
    "                           'database/23hv/rand3_original_proj_pos.csv', 'database/23hv/rand3_original_proj_neg.csv',\n",
    "                           'database/23hv/rand3_original_proj_pos.csv', 'database/23hv/rand3_original_proj_neg.csv',\n",
    "                           'database/23hv/rand3_original_proj_pos.csv', 'database/23hv/rand3_original_proj_neg.csv',\n",
    "                           'database/23hv/rand3_original_im.csv',\n",
    "                           is_early_fusion=True)\n",
    "\n",
    "hdc_top_3.train_am()\n",
    "hdc_top_3.test()\n",
    "\n",
    "print(\"Early Fusion:\")\n",
    "print(\"prediction_success_rate   : \" + str(hdc_top_3.prediction_success_rate))\n",
    "print(\"prediction_v_success_rate : \" + str(hdc_top_3.prediction_v_success_rate))\n",
    "print(\"prediction_a_success_rate : \" + str(hdc_top_3.prediction_a_success_rate))"
   ]
  },
  {
   "cell_type": "code",
   "execution_count": 7,
   "metadata": {},
   "outputs": [
    {
     "name": "stdout",
     "output_type": "stream",
     "text": [
      "Late Fusion:\n",
      "prediction_success_rate   : 0.58994708994709\n",
      "prediction_v_success_rate : 0.7751322751322751\n",
      "prediction_a_success_rate : 0.7513227513227513\n"
     ]
    }
   ],
   "source": [
    "hdc_top_3.reset()\n",
    "hdc_top_3.is_early_fusion = False\n",
    "\n",
    "hdc_top_3.train_am()\n",
    "hdc_top_3.test()\n",
    "\n",
    "print(\"Late Fusion:\")\n",
    "print(\"prediction_success_rate   : \" + str(hdc_top_3.prediction_success_rate))\n",
    "print(\"prediction_v_success_rate : \" + str(hdc_top_3.prediction_v_success_rate))\n",
    "print(\"prediction_a_success_rate : \" + str(hdc_top_3.prediction_a_success_rate))"
   ]
  },
  {
   "cell_type": "code",
   "execution_count": 8,
   "metadata": {},
   "outputs": [
    {
     "name": "stdout",
     "output_type": "stream",
     "text": [
      "Early Fusion:\n",
      "prediction_success_rate   : 0.5793650793650794\n",
      "prediction_v_success_rate : 0.7698412698412699\n",
      "prediction_a_success_rate : 0.7513227513227513\n"
     ]
    }
   ],
   "source": [
    "hdc_top_4 = hdc_top.HDCTop('database/fm.csv', \n",
    "                           'database/23hv/rand4_original_proj_pos.csv', 'database/23hv/rand4_original_proj_neg.csv',\n",
    "                           'database/23hv/rand4_original_proj_pos.csv', 'database/23hv/rand4_original_proj_neg.csv',\n",
    "                           'database/23hv/rand4_original_proj_pos.csv', 'database/23hv/rand4_original_proj_neg.csv',\n",
    "                           'database/23hv/rand4_original_im.csv',\n",
    "                           is_early_fusion=True)\n",
    "\n",
    "hdc_top_4.train_am()\n",
    "hdc_top_4.test()\n",
    "\n",
    "print(\"Early Fusion:\")\n",
    "print(\"prediction_success_rate   : \" + str(hdc_top_4.prediction_success_rate))\n",
    "print(\"prediction_v_success_rate : \" + str(hdc_top_4.prediction_v_success_rate))\n",
    "print(\"prediction_a_success_rate : \" + str(hdc_top_4.prediction_a_success_rate))"
   ]
  },
  {
   "cell_type": "code",
   "execution_count": 9,
   "metadata": {},
   "outputs": [
    {
     "name": "stdout",
     "output_type": "stream",
     "text": [
      "Late Fusion:\n",
      "prediction_success_rate   : 0.5740740740740741\n",
      "prediction_v_success_rate : 0.7592592592592593\n",
      "prediction_a_success_rate : 0.7566137566137566\n"
     ]
    }
   ],
   "source": [
    "hdc_top_4.reset()\n",
    "hdc_top_4.is_early_fusion = False\n",
    "\n",
    "hdc_top_4.train_am()\n",
    "hdc_top_4.test()\n",
    "\n",
    "print(\"Late Fusion:\")\n",
    "print(\"prediction_success_rate   : \" + str(hdc_top_4.prediction_success_rate))\n",
    "print(\"prediction_v_success_rate : \" + str(hdc_top_4.prediction_v_success_rate))\n",
    "print(\"prediction_a_success_rate : \" + str(hdc_top_4.prediction_a_success_rate))"
   ]
  },
  {
   "cell_type": "code",
   "execution_count": 10,
   "metadata": {},
   "outputs": [
    {
     "name": "stdout",
     "output_type": "stream",
     "text": [
      "Early Fusion:\n",
      "prediction_success_rate   : 0.6111111111111112\n",
      "prediction_v_success_rate : 0.8121693121693122\n",
      "prediction_a_success_rate : 0.7380952380952381\n"
     ]
    }
   ],
   "source": [
    "hdc_top_5 = hdc_top.HDCTop('database/fm.csv', \n",
    "                           'database/23hv/rand5_original_proj_pos.csv', 'database/23hv/rand5_original_proj_neg.csv',\n",
    "                           'database/23hv/rand5_original_proj_pos.csv', 'database/23hv/rand5_original_proj_neg.csv',\n",
    "                           'database/23hv/rand5_original_proj_pos.csv', 'database/23hv/rand5_original_proj_neg.csv',\n",
    "                           'database/23hv/rand5_original_im.csv',\n",
    "                           is_early_fusion=True)\n",
    "\n",
    "hdc_top_5.train_am()\n",
    "hdc_top_5.test()\n",
    "\n",
    "print(\"Early Fusion:\")\n",
    "print(\"prediction_success_rate   : \" + str(hdc_top_5.prediction_success_rate))\n",
    "print(\"prediction_v_success_rate : \" + str(hdc_top_5.prediction_v_success_rate))\n",
    "print(\"prediction_a_success_rate : \" + str(hdc_top_5.prediction_a_success_rate))"
   ]
  },
  {
   "cell_type": "code",
   "execution_count": 11,
   "metadata": {},
   "outputs": [
    {
     "name": "stdout",
     "output_type": "stream",
     "text": [
      "Late Fusion:\n",
      "prediction_success_rate   : 0.5925925925925926\n",
      "prediction_v_success_rate : 0.7645502645502645\n",
      "prediction_a_success_rate : 0.7724867724867724\n"
     ]
    }
   ],
   "source": [
    "hdc_top_5.reset()\n",
    "hdc_top_5.is_early_fusion = False\n",
    "\n",
    "hdc_top_5.train_am()\n",
    "hdc_top_5.test()\n",
    "\n",
    "print(\"Late Fusion:\")\n",
    "print(\"prediction_success_rate   : \" + str(hdc_top_5.prediction_success_rate))\n",
    "print(\"prediction_v_success_rate : \" + str(hdc_top_5.prediction_v_success_rate))\n",
    "print(\"prediction_a_success_rate : \" + str(hdc_top_5.prediction_a_success_rate))"
   ]
  },
  {
   "cell_type": "code",
   "execution_count": 12,
   "metadata": {},
   "outputs": [
    {
     "name": "stdout",
     "output_type": "stream",
     "text": [
      "Early Fusion:\n",
      "prediction_success_rate   : 0.5529100529100529\n",
      "prediction_v_success_rate : 0.7698412698412699\n",
      "prediction_a_success_rate : 0.7433862433862434\n"
     ]
    }
   ],
   "source": [
    "hdc_top_6 = hdc_top.HDCTop('database/fm.csv', \n",
    "                           'database/23hv/rand6_original_proj_pos.csv', 'database/23hv/rand6_original_proj_neg.csv',\n",
    "                           'database/23hv/rand6_original_proj_pos.csv', 'database/23hv/rand6_original_proj_neg.csv',\n",
    "                           'database/23hv/rand6_original_proj_pos.csv', 'database/23hv/rand6_original_proj_neg.csv',\n",
    "                           'database/23hv/rand6_original_im.csv',\n",
    "                           is_early_fusion=True)\n",
    "\n",
    "hdc_top_6.train_am()\n",
    "hdc_top_6.test()\n",
    "\n",
    "print(\"Early Fusion:\")\n",
    "print(\"prediction_success_rate   : \" + str(hdc_top_6.prediction_success_rate))\n",
    "print(\"prediction_v_success_rate : \" + str(hdc_top_6.prediction_v_success_rate))\n",
    "print(\"prediction_a_success_rate : \" + str(hdc_top_6.prediction_a_success_rate))"
   ]
  },
  {
   "cell_type": "code",
   "execution_count": 13,
   "metadata": {},
   "outputs": [
    {
     "name": "stdout",
     "output_type": "stream",
     "text": [
      "Late Fusion:\n",
      "prediction_success_rate   : 0.58994708994709\n",
      "prediction_v_success_rate : 0.7751322751322751\n",
      "prediction_a_success_rate : 0.7645502645502645\n"
     ]
    }
   ],
   "source": [
    "hdc_top_6.reset()\n",
    "hdc_top_6.is_early_fusion = False\n",
    "\n",
    "hdc_top_6.train_am()\n",
    "hdc_top_6.test()\n",
    "\n",
    "print(\"Late Fusion:\")\n",
    "print(\"prediction_success_rate   : \" + str(hdc_top_6.prediction_success_rate))\n",
    "print(\"prediction_v_success_rate : \" + str(hdc_top_6.prediction_v_success_rate))\n",
    "print(\"prediction_a_success_rate : \" + str(hdc_top_6.prediction_a_success_rate))"
   ]
  },
  {
   "cell_type": "code",
   "execution_count": 14,
   "metadata": {},
   "outputs": [
    {
     "name": "stdout",
     "output_type": "stream",
     "text": [
      "Early Fusion:\n",
      "prediction_success_rate   : 0.5978835978835979\n",
      "prediction_v_success_rate : 0.8253968253968254\n",
      "prediction_a_success_rate : 0.7301587301587301\n"
     ]
    }
   ],
   "source": [
    "hdc_top_7 = hdc_top.HDCTop('database/fm.csv', \n",
    "                           'database/23hv/rand7_original_proj_pos.csv', 'database/23hv/rand7_original_proj_neg.csv',\n",
    "                           'database/23hv/rand7_original_proj_pos.csv', 'database/23hv/rand7_original_proj_neg.csv',\n",
    "                           'database/23hv/rand7_original_proj_pos.csv', 'database/23hv/rand7_original_proj_neg.csv',\n",
    "                           'database/23hv/rand7_original_im.csv',\n",
    "                           is_early_fusion=True)\n",
    "\n",
    "hdc_top_7.train_am()\n",
    "hdc_top_7.test()\n",
    "\n",
    "print(\"Early Fusion:\")\n",
    "print(\"prediction_success_rate   : \" + str(hdc_top_7.prediction_success_rate))\n",
    "print(\"prediction_v_success_rate : \" + str(hdc_top_7.prediction_v_success_rate))\n",
    "print(\"prediction_a_success_rate : \" + str(hdc_top_7.prediction_a_success_rate))"
   ]
  },
  {
   "cell_type": "code",
   "execution_count": 15,
   "metadata": {},
   "outputs": [
    {
     "name": "stdout",
     "output_type": "stream",
     "text": [
      "Late Fusion:\n",
      "prediction_success_rate   : 0.5714285714285714\n",
      "prediction_v_success_rate : 0.7566137566137566\n",
      "prediction_a_success_rate : 0.753968253968254\n"
     ]
    }
   ],
   "source": [
    "hdc_top_7.reset()\n",
    "hdc_top_7.is_early_fusion = False\n",
    "\n",
    "hdc_top_7.train_am()\n",
    "hdc_top_7.test()\n",
    "\n",
    "print(\"Late Fusion:\")\n",
    "print(\"prediction_success_rate   : \" + str(hdc_top_7.prediction_success_rate))\n",
    "print(\"prediction_v_success_rate : \" + str(hdc_top_7.prediction_v_success_rate))\n",
    "print(\"prediction_a_success_rate : \" + str(hdc_top_7.prediction_a_success_rate))"
   ]
  },
  {
   "cell_type": "code",
   "execution_count": 16,
   "metadata": {},
   "outputs": [
    {
     "name": "stdout",
     "output_type": "stream",
     "text": [
      "Early Fusion:\n",
      "prediction_success_rate   : 0.6402116402116402\n",
      "prediction_v_success_rate : 0.8544973544973545\n",
      "prediction_a_success_rate : 0.7380952380952381\n"
     ]
    }
   ],
   "source": [
    "hdc_top_8 = hdc_top.HDCTop('database/fm.csv', \n",
    "                           'database/23hv/rand8_original_proj_pos.csv', 'database/23hv/rand8_original_proj_neg.csv',\n",
    "                           'database/23hv/rand8_original_proj_pos.csv', 'database/23hv/rand8_original_proj_neg.csv',\n",
    "                           'database/23hv/rand8_original_proj_pos.csv', 'database/23hv/rand8_original_proj_neg.csv',\n",
    "                           'database/23hv/rand8_original_im.csv',\n",
    "                           is_early_fusion=True)\n",
    "\n",
    "hdc_top_8.train_am()\n",
    "hdc_top_8.test()\n",
    "\n",
    "print(\"Early Fusion:\")\n",
    "print(\"prediction_success_rate   : \" + str(hdc_top_8.prediction_success_rate))\n",
    "print(\"prediction_v_success_rate : \" + str(hdc_top_8.prediction_v_success_rate))\n",
    "print(\"prediction_a_success_rate : \" + str(hdc_top_8.prediction_a_success_rate))"
   ]
  },
  {
   "cell_type": "code",
   "execution_count": 17,
   "metadata": {},
   "outputs": [
    {
     "name": "stdout",
     "output_type": "stream",
     "text": [
      "Late Fusion:\n",
      "prediction_success_rate   : 0.582010582010582\n",
      "prediction_v_success_rate : 0.7566137566137566\n",
      "prediction_a_success_rate : 0.753968253968254\n"
     ]
    }
   ],
   "source": [
    "hdc_top_8.reset()\n",
    "hdc_top_8.is_early_fusion = False\n",
    "\n",
    "hdc_top_8.train_am()\n",
    "hdc_top_8.test()\n",
    "\n",
    "print(\"Late Fusion:\")\n",
    "print(\"prediction_success_rate   : \" + str(hdc_top_8.prediction_success_rate))\n",
    "print(\"prediction_v_success_rate : \" + str(hdc_top_8.prediction_v_success_rate))\n",
    "print(\"prediction_a_success_rate : \" + str(hdc_top_8.prediction_a_success_rate))"
   ]
  },
  {
   "cell_type": "code",
   "execution_count": 18,
   "metadata": {},
   "outputs": [
    {
     "name": "stdout",
     "output_type": "stream",
     "text": [
      "Early Fusion:\n",
      "prediction_success_rate   : 0.6402116402116402\n",
      "prediction_v_success_rate : 0.8359788359788359\n",
      "prediction_a_success_rate : 0.7407407407407407\n"
     ]
    }
   ],
   "source": [
    "hdc_top_9 = hdc_top.HDCTop('database/fm.csv', \n",
    "                           'database/23hv/rand9_original_proj_pos.csv', 'database/23hv/rand9_original_proj_neg.csv',\n",
    "                           'database/23hv/rand9_original_proj_pos.csv', 'database/23hv/rand9_original_proj_neg.csv',\n",
    "                           'database/23hv/rand9_original_proj_pos.csv', 'database/23hv/rand9_original_proj_neg.csv',\n",
    "                           'database/23hv/rand9_original_im.csv',\n",
    "                           is_early_fusion=True)\n",
    "\n",
    "hdc_top_9.train_am()\n",
    "hdc_top_9.test()\n",
    "\n",
    "print(\"Early Fusion:\")\n",
    "print(\"prediction_success_rate   : \" + str(hdc_top_9.prediction_success_rate))\n",
    "print(\"prediction_v_success_rate : \" + str(hdc_top_9.prediction_v_success_rate))\n",
    "print(\"prediction_a_success_rate : \" + str(hdc_top_9.prediction_a_success_rate))"
   ]
  },
  {
   "cell_type": "code",
   "execution_count": 19,
   "metadata": {},
   "outputs": [
    {
     "name": "stdout",
     "output_type": "stream",
     "text": [
      "Late Fusion:\n",
      "prediction_success_rate   : 0.6322751322751323\n",
      "prediction_v_success_rate : 0.8042328042328042\n",
      "prediction_a_success_rate : 0.7698412698412699\n"
     ]
    }
   ],
   "source": [
    "hdc_top_9.reset()\n",
    "hdc_top_9.is_early_fusion = False\n",
    "\n",
    "hdc_top_9.train_am()\n",
    "hdc_top_9.test()\n",
    "\n",
    "print(\"Late Fusion:\")\n",
    "print(\"prediction_success_rate   : \" + str(hdc_top_9.prediction_success_rate))\n",
    "print(\"prediction_v_success_rate : \" + str(hdc_top_9.prediction_v_success_rate))\n",
    "print(\"prediction_a_success_rate : \" + str(hdc_top_9.prediction_a_success_rate))"
   ]
  },
  {
   "cell_type": "code",
   "execution_count": 20,
   "metadata": {},
   "outputs": [
    {
     "name": "stdout",
     "output_type": "stream",
     "text": [
      "Early Fusion:\n",
      "prediction_success_rate   : 0.6322751322751323\n",
      "prediction_v_success_rate : 0.8359788359788359\n",
      "prediction_a_success_rate : 0.7433862433862434\n"
     ]
    }
   ],
   "source": [
    "hdc_top_10 = hdc_top.HDCTop('database/fm.csv', \n",
    "                           'database/23hv/rand10_original_proj_pos.csv', 'database/23hv/rand10_original_proj_neg.csv',\n",
    "                           'database/23hv/rand10_original_proj_pos.csv', 'database/23hv/rand10_original_proj_neg.csv',\n",
    "                           'database/23hv/rand10_original_proj_pos.csv', 'database/23hv/rand10_original_proj_neg.csv',\n",
    "                           'database/23hv/rand10_original_im.csv',\n",
    "                           is_early_fusion=True)\n",
    "\n",
    "hdc_top_10.train_am()\n",
    "hdc_top_10.test()\n",
    "\n",
    "print(\"Early Fusion:\")\n",
    "print(\"prediction_success_rate   : \" + str(hdc_top_10.prediction_success_rate))\n",
    "print(\"prediction_v_success_rate : \" + str(hdc_top_10.prediction_v_success_rate))\n",
    "print(\"prediction_a_success_rate : \" + str(hdc_top_10.prediction_a_success_rate))"
   ]
  },
  {
   "cell_type": "code",
   "execution_count": 21,
   "metadata": {},
   "outputs": [
    {
     "name": "stdout",
     "output_type": "stream",
     "text": [
      "Late Fusion:\n",
      "prediction_success_rate   : 0.5767195767195767\n",
      "prediction_v_success_rate : 0.7671957671957672\n",
      "prediction_a_success_rate : 0.753968253968254\n"
     ]
    }
   ],
   "source": [
    "hdc_top_10.reset()\n",
    "hdc_top_10.is_early_fusion = False\n",
    "\n",
    "hdc_top_10.train_am()\n",
    "hdc_top_10.test()\n",
    "\n",
    "print(\"Late Fusion:\")\n",
    "print(\"prediction_success_rate   : \" + str(hdc_top_10.prediction_success_rate))\n",
    "print(\"prediction_v_success_rate : \" + str(hdc_top_10.prediction_v_success_rate))\n",
    "print(\"prediction_a_success_rate : \" + str(hdc_top_10.prediction_a_success_rate))"
   ]
  },
  {
   "cell_type": "code",
   "execution_count": null,
   "metadata": {},
   "outputs": [],
   "source": []
  }
 ],
 "metadata": {
  "kernelspec": {
   "display_name": "Python 3",
   "language": "python",
   "name": "python3"
  },
  "language_info": {
   "codemirror_mode": {
    "name": "ipython",
    "version": 3
   },
   "file_extension": ".py",
   "mimetype": "text/x-python",
   "name": "python",
   "nbconvert_exporter": "python",
   "pygments_lexer": "ipython3",
   "version": "3.8.3"
  }
 },
 "nbformat": 4,
 "nbformat_minor": 4
}
