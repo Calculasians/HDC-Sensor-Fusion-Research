{
 "cells": [
  {
   "cell_type": "markdown",
   "metadata": {},
   "source": [
    "This notebook calculates the clock cycle count for 23 vectors when we treat cycles where the im changes as 2 cycles, and otherwise, 1 cycle."
   ]
  },
  {
   "cell_type": "code",
   "execution_count": 1,
   "metadata": {},
   "outputs": [
    {
     "ename": "FileNotFoundError",
     "evalue": "[Errno 2] No such file or directory: 'im.txt'",
     "output_type": "error",
     "traceback": [
      "\u001b[0;31m---------------------------------------------------------------------------\u001b[0m",
      "\u001b[0;31mFileNotFoundError\u001b[0m                         Traceback (most recent call last)",
      "\u001b[0;32m<ipython-input-1-c9cd8686c397>\u001b[0m in \u001b[0;36m<module>\u001b[0;34m\u001b[0m\n\u001b[1;32m      2\u001b[0m \u001b[0mECG_fm_file\u001b[0m \u001b[0;34m=\u001b[0m \u001b[0mopen\u001b[0m\u001b[0;34m(\u001b[0m\u001b[0;34m\"ECG_fm.txt\"\u001b[0m\u001b[0;34m,\u001b[0m \u001b[0;34m\"r\"\u001b[0m\u001b[0;34m)\u001b[0m\u001b[0;34m\u001b[0m\u001b[0;34m\u001b[0m\u001b[0m\n\u001b[1;32m      3\u001b[0m \u001b[0mEEG_fm_file\u001b[0m \u001b[0;34m=\u001b[0m \u001b[0mopen\u001b[0m\u001b[0;34m(\u001b[0m\u001b[0;34m\"EEG_fm.txt\"\u001b[0m\u001b[0;34m,\u001b[0m \u001b[0;34m\"r\"\u001b[0m\u001b[0;34m)\u001b[0m\u001b[0;34m\u001b[0m\u001b[0;34m\u001b[0m\u001b[0m\n\u001b[0;32m----> 4\u001b[0;31m \u001b[0mim_file\u001b[0m \u001b[0;34m=\u001b[0m \u001b[0mopen\u001b[0m\u001b[0;34m(\u001b[0m\u001b[0;34m\"im.txt\"\u001b[0m\u001b[0;34m,\u001b[0m \u001b[0;34m\"r\"\u001b[0m\u001b[0;34m)\u001b[0m\u001b[0;34m\u001b[0m\u001b[0;34m\u001b[0m\u001b[0m\n\u001b[0m",
      "\u001b[0;31mFileNotFoundError\u001b[0m: [Errno 2] No such file or directory: 'im.txt'"
     ]
    }
   ],
   "source": [
    "GSR_fm_file = open(\"GSR_fm.txt\", \"r\")\n",
    "ECG_fm_file = open(\"ECG_fm.txt\", \"r\")\n",
    "EEG_fm_file = open(\"EEG_fm.txt\", \"r\")\n",
    "im_file = open(\"im.txt\", \"r\")"
   ]
  },
  {
   "cell_type": "code",
   "execution_count": 47,
   "metadata": {},
   "outputs": [],
   "source": [
    "global_clock_cycles = []"
   ]
  },
  {
   "cell_type": "code",
   "execution_count": 48,
   "metadata": {},
   "outputs": [],
   "source": [
    "im_change_list = [0, 10, 20, 29,38,46,54,61,68,74,80,85,90,94,98, 101, 104]"
   ]
  },
  {
   "cell_type": "code",
   "execution_count": 49,
   "metadata": {},
   "outputs": [],
   "source": [
    "for i in range(380):\n",
    "    curr_gsr = GSR_fm_file.readline().strip('\\n')\n",
    "    curr_ecg = ECG_fm_file.readline().strip('\\n')\n",
    "    curr_eeg = EEG_fm_file.readline().strip('\\n')\n",
    "    curr_im = im_file.readline().strip('\\n')\n",
    "    clock_cycles = [1]*105\n",
    "    for j0 in range(105):\n",
    "        if (j0 in im_change_list):\n",
    "            clock_cycles[j0] += 1\n",
    "    \n",
    "    for j1 in range(32):\n",
    "        if (curr_gsr[j1] != curr_ecg[j1] or curr_gsr[j1] != curr_eeg[j1]):\n",
    "            clock_cycles[j1] += 1\n",
    "    for j2 in range(32, 77, 1):\n",
    "        if (curr_ecg[j2] != curr_eeg[j2]):\n",
    "            clock_cycles[j2] += 1\n",
    "    clock_cycle_avg = sum(clock_cycles) / len(clock_cycles)\n",
    "    global_clock_cycles.append(clock_cycle_avg)"
   ]
  },
  {
   "cell_type": "code",
   "execution_count": 52,
   "metadata": {
    "scrolled": false
   },
   "outputs": [
    {
     "data": {
      "text/plain": [
       "1.4877192982456129"
      ]
     },
     "execution_count": 52,
     "metadata": {},
     "output_type": "execute_result"
    }
   ],
   "source": [
    "sum(global_clock_cycles) / len(global_clock_cycles)"
   ]
  },
  {
   "cell_type": "code",
   "execution_count": null,
   "metadata": {},
   "outputs": [],
   "source": []
  }
 ],
 "metadata": {
  "kernelspec": {
   "display_name": "Python 3",
   "language": "python",
   "name": "python3"
  },
  "language_info": {
   "codemirror_mode": {
    "name": "ipython",
    "version": 3
   },
   "file_extension": ".py",
   "mimetype": "text/x-python",
   "name": "python",
   "nbconvert_exporter": "python",
   "pygments_lexer": "ipython3",
   "version": "3.9.0"
  }
 },
 "nbformat": 4,
 "nbformat_minor": 2
}
