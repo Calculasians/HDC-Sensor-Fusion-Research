{
 "cells": [
  {
   "cell_type": "code",
   "execution_count": 1,
   "metadata": {},
   "outputs": [],
   "source": [
    "import hdc_top_rule90_serial"
   ]
  },
  {
   "cell_type": "code",
   "execution_count": 2,
   "metadata": {},
   "outputs": [],
   "source": [
    "hdc_top_1 = hdc_top_rule90_serial.HDCTop('database/fm.csv', 'database/seed_hv.csv', is_early_fusion=True)"
   ]
  },
  {
   "cell_type": "code",
   "execution_count": 3,
   "metadata": {},
   "outputs": [],
   "source": [
    "hdc_top_1.train_am()"
   ]
  },
  {
   "cell_type": "code",
   "execution_count": 4,
   "metadata": {},
   "outputs": [],
   "source": [
    "hdc_top_1.test()"
   ]
  },
  {
   "cell_type": "code",
   "execution_count": 5,
   "metadata": {},
   "outputs": [
    {
     "data": {
      "text/plain": [
       "0.6190476190476191"
      ]
     },
     "execution_count": 5,
     "metadata": {},
     "output_type": "execute_result"
    }
   ],
   "source": [
    "hdc_top_1.prediction_success_rate"
   ]
  },
  {
   "cell_type": "code",
   "execution_count": 6,
   "metadata": {},
   "outputs": [
    {
     "data": {
      "text/plain": [
       "0.8068783068783069"
      ]
     },
     "execution_count": 6,
     "metadata": {},
     "output_type": "execute_result"
    }
   ],
   "source": [
    "hdc_top_1.prediction_v_success_rate"
   ]
  },
  {
   "cell_type": "code",
   "execution_count": 7,
   "metadata": {},
   "outputs": [
    {
     "data": {
      "text/plain": [
       "0.7698412698412699"
      ]
     },
     "execution_count": 7,
     "metadata": {},
     "output_type": "execute_result"
    }
   ],
   "source": [
    "hdc_top_1.prediction_a_success_rate"
   ]
  },
  {
   "cell_type": "code",
   "execution_count": 8,
   "metadata": {},
   "outputs": [],
   "source": [
    "expected_v_file = open(\"tb_database/rule90_serial/expected_v.txt\",\"w\")\n",
    "expected_a_file = open(\"tb_database/rule90_serial/expected_a.txt\",\"w\")\n",
    "\n",
    "for val in hdc_top_1.predicted_v_history:\n",
    "    expected_v_file.write(str(val)+\"\\n\")\n",
    "    \n",
    "for val in hdc_top_1.predicted_a_history:\n",
    "    expected_a_file.write(str(val)+\"\\n\")\n",
    "    \n",
    "expected_v_file.close()\n",
    "expected_a_file.close()"
   ]
  },
  {
   "cell_type": "code",
   "execution_count": 9,
   "metadata": {},
   "outputs": [],
   "source": [
    "prototypes_file = open(\"tb_database/rule90_serial/prototypes.txt\",\"w\")\n",
    "\n",
    "for val in hdc_top_1.associative_memory.prototype_v_plus:\n",
    "    prototypes_file.write(str(val))\n",
    "prototypes_file.write(\"\\n\")\n",
    "\n",
    "for val in hdc_top_1.associative_memory.prototype_v_min:\n",
    "    prototypes_file.write(str(val))\n",
    "prototypes_file.write(\"\\n\")\n",
    "\n",
    "for val in hdc_top_1.associative_memory.prototype_a_high:\n",
    "    prototypes_file.write(str(val))\n",
    "prototypes_file.write(\"\\n\")\n",
    "\n",
    "for val in hdc_top_1.associative_memory.prototype_a_low:\n",
    "    prototypes_file.write(str(val))\n",
    "prototypes_file.write(\"\\n\")\n",
    "\n",
    "prototypes_file.close()"
   ]
  },
  {
   "cell_type": "code",
   "execution_count": 10,
   "metadata": {},
   "outputs": [],
   "source": [
    "seed_file = open(\"tb_database/rule90_serial/seed.txt\",\"w\")\n",
    "\n",
    "for val in hdc_top_1.seed_hv:\n",
    "    seed_file.write(str(val))\n",
    "seed_file.write(\"\\n\")\n",
    "\n",
    "seed_file.close()"
   ]
  },
  {
   "cell_type": "code",
   "execution_count": 11,
   "metadata": {},
   "outputs": [],
   "source": [
    "fuser_output_file = open(\"tb_database/rule90_serial/fuser_output.txt\",\"w\")\n",
    "te_output_file = open(\"tb_database/rule90_serial/te_output.txt\",\"w\")\n",
    "\n",
    "for hv in hdc_top_1.fuser_history:\n",
    "    for val in hv:\n",
    "        fuser_output_file.write(str(val))\n",
    "    fuser_output_file.write(\"\\n\")\n",
    "    \n",
    "for hv in hdc_top_1.te_history:\n",
    "    for val in hv:\n",
    "        te_output_file.write(str(val))\n",
    "    te_output_file.write(\"\\n\")\n",
    "\n",
    "fuser_output_file.close()\n",
    "te_output_file.close()"
   ]
  },
  {
   "cell_type": "code",
   "execution_count": null,
   "metadata": {},
   "outputs": [],
   "source": []
  }
 ],
 "metadata": {
  "kernelspec": {
   "display_name": "Python 3",
   "language": "python",
   "name": "python3"
  },
  "language_info": {
   "codemirror_mode": {
    "name": "ipython",
    "version": 3
   },
   "file_extension": ".py",
   "mimetype": "text/x-python",
   "name": "python",
   "nbconvert_exporter": "python",
   "pygments_lexer": "ipython3",
   "version": "3.9.0"
  }
 },
 "nbformat": 4,
 "nbformat_minor": 4
}
