{
 "cells": [
  {
   "cell_type": "code",
   "execution_count": 1,
   "metadata": {},
   "outputs": [],
   "source": [
    "import numpy as np\n",
    "import os\n",
    "from sklearn.model_selection import KFold # had to do pip install sklearn in this notebook\n",
    "from sklearn.svm import SVC\n",
    "from sklearn.feature_selection import RFE\n",
    "from sklearn.metrics import accuracy_score, f1_score"
   ]
  },
  {
   "cell_type": "code",
   "execution_count": 2,
   "metadata": {},
   "outputs": [],
   "source": [
    "# This notebook emulates main.py with --data ./data --feat all --clf svm --nor one --select rfe --num 1"
   ]
  },
  {
   "cell_type": "code",
   "execution_count": 3,
   "metadata": {},
   "outputs": [],
   "source": [
    "data = './data'\n",
    "num_features_selected = 1"
   ]
  },
  {
   "cell_type": "code",
   "execution_count": 4,
   "metadata": {},
   "outputs": [],
   "source": [
    "SUBJECT_NUM = 40\n",
    "VIDEO_NUM = 16\n",
    "SAMPLE_RATE = 128.\n",
    "MISSING_DATA_SUBJECT = [9, 12, 21, 22, 23, 24, 33]"
   ]
  },
  {
   "cell_type": "code",
   "execution_count": 5,
   "metadata": {},
   "outputs": [],
   "source": [
    "amigos_data = np.loadtxt(os.path.join(data, 'features.csv'), delimiter=',')"
   ]
  },
  {
   "cell_type": "code",
   "execution_count": 6,
   "metadata": {},
   "outputs": [
    {
     "data": {
      "text/plain": [
       "(528, 215)"
      ]
     },
     "execution_count": 6,
     "metadata": {},
     "output_type": "execute_result"
    }
   ],
   "source": [
    "amigos_data.shape"
   ]
  },
  {
   "cell_type": "code",
   "execution_count": 9,
   "metadata": {},
   "outputs": [
    {
     "data": {
      "text/plain": [
       "array([[ 3.75527470e+05,  4.19887678e+00,  8.12293791e+01, ...,\n",
       "        -7.03652450e-01,  2.93860000e+00,  5.00000000e+00],\n",
       "       [ 4.14585010e+05,  1.26145045e+01,  7.09236174e+01, ...,\n",
       "        -6.18595482e-01,  4.87710000e+00,  6.54270000e+00],\n",
       "       [ 3.57766594e+05,  6.36469543e+00,  5.29660656e+01, ...,\n",
       "        -2.85485239e-01,  5.00000000e+00,  3.23890000e+00],\n",
       "       ...,\n",
       "       [ 3.04208478e+05,  3.91586818e+00,  1.18190286e+02, ...,\n",
       "         2.35810708e-01,  5.00000000e+00,  6.66780000e+00],\n",
       "       [ 1.83664760e+05,  1.65597355e+00,  4.68708066e+01, ...,\n",
       "         2.53220187e-01,  5.55590000e+00,  6.28810000e+00],\n",
       "       [ 1.92068764e+05,  8.80936285e-01,  6.27798844e+01, ...,\n",
       "         2.54748148e-01,  6.45080000e+00,  6.09830000e+00]])"
      ]
     },
     "execution_count": 9,
     "metadata": {},
     "output_type": "execute_result"
    }
   ],
   "source": [
    "amigos_data"
   ]
  },
  {
   "cell_type": "code",
   "execution_count": 7,
   "metadata": {},
   "outputs": [],
   "source": [
    "# 1st column of labels is arousal labels, 2nd column is valence labels. \n",
    "# Labels are chunked into SUBJECT_NUM-len(MISSING_DATA_SUBJECT) chunks of size VIDEO_NUM\n",
    "# Discretizing all the labels, downsampling to 1 label per amigos_data datapoint\n",
    "\n",
    "labels = np.loadtxt(os.path.join(data, 'label.csv'), delimiter=',')[:, :2]\n",
    "a_labels, v_labels = [], []\n",
    "for i in range(SUBJECT_NUM):\n",
    "    if i + 1 in MISSING_DATA_SUBJECT:\n",
    "        continue\n",
    "    a_labels_mean = np.mean(labels[i * VIDEO_NUM:i * VIDEO_NUM + VIDEO_NUM, 0])\n",
    "    v_labels_mean = np.mean(labels[i * VIDEO_NUM:i * VIDEO_NUM + VIDEO_NUM, 1])\n",
    "    for idx, label in enumerate(labels[i * VIDEO_NUM:i * VIDEO_NUM + VIDEO_NUM, :]):\n",
    "        a_tmp = 1 if label[0] > a_labels_mean else 0\n",
    "        v_tmp = 1 if label[1] > v_labels_mean else 0\n",
    "        a_labels.append(a_tmp)\n",
    "        v_labels.append(v_tmp)\n",
    "a_labels, v_labels = np.array(a_labels), np.array(v_labels)"
   ]
  },
  {
   "cell_type": "code",
   "execution_count": 16,
   "metadata": {},
   "outputs": [
    {
     "data": {
      "text/plain": [
       "(528,)"
      ]
     },
     "execution_count": 16,
     "metadata": {},
     "output_type": "execute_result"
    }
   ],
   "source": [
    "a_labels.shape"
   ]
  },
  {
   "cell_type": "code",
   "execution_count": 10,
   "metadata": {},
   "outputs": [],
   "source": [
    "# setup kfold cross validator\n",
    "kfold = KFold(n_splits=SUBJECT_NUM - len(MISSING_DATA_SUBJECT))"
   ]
  },
  {
   "cell_type": "code",
   "execution_count": 11,
   "metadata": {},
   "outputs": [],
   "source": [
    "# setup classifier\n",
    "a_clf = SVC(C=0.75, kernel='linear')\n",
    "v_clf = SVC(C=0.2, kernel='linear')"
   ]
  },
  {
   "cell_type": "code",
   "execution_count": 12,
   "metadata": {},
   "outputs": [
    {
     "name": "stderr",
     "output_type": "stream",
     "text": [
      "C:\\Users\\hydsu\\anaconda3\\lib\\site-packages\\sklearn\\utils\\validation.py:70: FutureWarning: Pass n_features_to_select=1 as keyword args. From version 1.0 (renaming of 0.25) passing these as positional arguments will result in an error\n",
      "  warnings.warn(f\"Pass {args_msg} as keyword args. From version \"\n"
     ]
    }
   ],
   "source": [
    "# setup RFE feature selection\n",
    "a_clf_select = RFE(a_clf, num_features_selected, verbose=0)\n",
    "v_clf_select = RFE(v_clf, num_features_selected, verbose=0)"
   ]
  },
  {
   "cell_type": "code",
   "execution_count": 12,
   "metadata": {},
   "outputs": [],
   "source": [
    "train_a_accuracy_history = []\n",
    "train_v_accuracy_history = []\n",
    "train_a_f1score_history = []\n",
    "train_v_f1score_history = []\n",
    "val_a_accuracy_history = []\n",
    "val_v_accuracy_history = []\n",
    "val_a_f1score_history = []\n",
    "val_v_f1score_history = []\n",
    "a_idx_history = np.zeros(amigos_data.shape[1])\n",
    "v_idx_history = np.zeros(amigos_data.shape[1])"
   ]
  },
  {
   "cell_type": "code",
   "execution_count": 13,
   "metadata": {
    "scrolled": true
   },
   "outputs": [
    {
     "name": "stdout",
     "output_type": "stream",
     "text": [
      "1 Fold Start\n",
      "Training Result\n",
      "Arousal: Accuracy: 0.8691, F1score: 0.8691\n",
      "Valence: Accuracy: 0.9492, F1score: 0.9490\n",
      "Validating Result\n",
      "Arousal: Accuracy: 1.0000, F1score: 1.0000\n",
      "Valence: Accuracy: 0.9375, F1score: 0.9373\n",
      "2 Fold Start\n",
      "Training Result\n",
      "Arousal: Accuracy: 0.8789, F1score: 0.8789\n",
      "Valence: Accuracy: 0.9473, F1score: 0.9471\n",
      "Validating Result\n",
      "Arousal: Accuracy: 0.7500, F1score: 0.7460\n",
      "Valence: Accuracy: 0.9375, F1score: 0.9352\n",
      "3 Fold Start\n",
      "Training Result\n",
      "Arousal: Accuracy: 0.8711, F1score: 0.8710\n",
      "Valence: Accuracy: 0.9492, F1score: 0.9491\n",
      "Validating Result\n",
      "Arousal: Accuracy: 1.0000, F1score: 1.0000\n",
      "Valence: Accuracy: 0.9375, F1score: 0.9352\n",
      "4 Fold Start\n",
      "Training Result\n",
      "Arousal: Accuracy: 0.8711, F1score: 0.8711\n",
      "Valence: Accuracy: 0.9473, F1score: 0.9471\n",
      "Validating Result\n",
      "Arousal: Accuracy: 0.9375, F1score: 0.9086\n",
      "Valence: Accuracy: 0.9375, F1score: 0.9373\n",
      "5 Fold Start\n",
      "Training Result\n",
      "Arousal: Accuracy: 0.8867, F1score: 0.8867\n",
      "Valence: Accuracy: 0.9453, F1score: 0.9452\n",
      "Validating Result\n",
      "Arousal: Accuracy: 0.8750, F1score: 0.8667\n",
      "Valence: Accuracy: 1.0000, F1score: 1.0000\n",
      "6 Fold Start\n",
      "Training Result\n",
      "Arousal: Accuracy: 0.8770, F1score: 0.8770\n",
      "Valence: Accuracy: 0.9492, F1score: 0.9491\n",
      "Validating Result\n",
      "Arousal: Accuracy: 0.8125, F1score: 0.7922\n",
      "Valence: Accuracy: 1.0000, F1score: 1.0000\n",
      "7 Fold Start\n",
      "Training Result\n",
      "Arousal: Accuracy: 0.8711, F1score: 0.8711\n",
      "Valence: Accuracy: 0.9473, F1score: 0.9470\n",
      "Validating Result\n",
      "Arousal: Accuracy: 1.0000, F1score: 1.0000\n",
      "Valence: Accuracy: 1.0000, F1score: 1.0000\n",
      "8 Fold Start\n",
      "Training Result\n",
      "Arousal: Accuracy: 0.8750, F1score: 0.8750\n",
      "Valence: Accuracy: 0.9531, F1score: 0.9530\n",
      "Validating Result\n",
      "Arousal: Accuracy: 0.8750, F1score: 0.8730\n",
      "Valence: Accuracy: 0.8750, F1score: 0.8730\n",
      "9 Fold Start\n",
      "Training Result\n",
      "Arousal: Accuracy: 0.8770, F1score: 0.8768\n",
      "Valence: Accuracy: 0.9453, F1score: 0.9452\n",
      "Validating Result\n",
      "Arousal: Accuracy: 0.9375, F1score: 0.9227\n",
      "Valence: Accuracy: 1.0000, F1score: 1.0000\n",
      "10 Fold Start\n",
      "Training Result\n",
      "Arousal: Accuracy: 0.8887, F1score: 0.8887\n",
      "Valence: Accuracy: 0.9688, F1score: 0.9686\n",
      "Validating Result\n",
      "Arousal: Accuracy: 0.8125, F1score: 0.6444\n",
      "Valence: Accuracy: 0.8125, F1score: 0.6444\n",
      "11 Fold Start\n",
      "Training Result\n",
      "Arousal: Accuracy: 0.8770, F1score: 0.8770\n",
      "Valence: Accuracy: 0.9492, F1score: 0.9491\n",
      "Validating Result\n",
      "Arousal: Accuracy: 0.9375, F1score: 0.9373\n",
      "Valence: Accuracy: 1.0000, F1score: 1.0000\n",
      "12 Fold Start\n",
      "Training Result\n",
      "Arousal: Accuracy: 0.8691, F1score: 0.8691\n",
      "Valence: Accuracy: 0.9453, F1score: 0.9451\n",
      "Validating Result\n",
      "Arousal: Accuracy: 1.0000, F1score: 1.0000\n",
      "Valence: Accuracy: 0.9375, F1score: 0.9373\n",
      "13 Fold Start\n",
      "Training Result\n",
      "Arousal: Accuracy: 0.8789, F1score: 0.8789\n",
      "Valence: Accuracy: 0.9453, F1score: 0.9452\n",
      "Validating Result\n",
      "Arousal: Accuracy: 1.0000, F1score: 1.0000\n",
      "Valence: Accuracy: 1.0000, F1score: 1.0000\n",
      "14 Fold Start\n",
      "Training Result\n",
      "Arousal: Accuracy: 0.8691, F1score: 0.8691\n",
      "Valence: Accuracy: 0.9453, F1score: 0.9451\n",
      "Validating Result\n",
      "Arousal: Accuracy: 1.0000, F1score: 1.0000\n",
      "Valence: Accuracy: 1.0000, F1score: 1.0000\n",
      "15 Fold Start\n",
      "Training Result\n",
      "Arousal: Accuracy: 0.8711, F1score: 0.8710\n",
      "Valence: Accuracy: 0.9492, F1score: 0.9491\n",
      "Validating Result\n",
      "Arousal: Accuracy: 1.0000, F1score: 1.0000\n",
      "Valence: Accuracy: 0.9375, F1score: 0.9373\n",
      "16 Fold Start\n",
      "Training Result\n",
      "Arousal: Accuracy: 0.8711, F1score: 0.8711\n",
      "Valence: Accuracy: 0.9473, F1score: 0.9471\n",
      "Validating Result\n",
      "Arousal: Accuracy: 0.9375, F1score: 0.9307\n",
      "Valence: Accuracy: 1.0000, F1score: 1.0000\n",
      "17 Fold Start\n",
      "Training Result\n",
      "Arousal: Accuracy: 0.8711, F1score: 0.8711\n",
      "Valence: Accuracy: 0.9473, F1score: 0.9471\n",
      "Validating Result\n",
      "Arousal: Accuracy: 0.8125, F1score: 0.7922\n",
      "Valence: Accuracy: 1.0000, F1score: 1.0000\n",
      "18 Fold Start\n",
      "Training Result\n",
      "Arousal: Accuracy: 0.8770, F1score: 0.8769\n",
      "Valence: Accuracy: 0.9512, F1score: 0.9510\n",
      "Validating Result\n",
      "Arousal: Accuracy: 0.8125, F1score: 0.7681\n",
      "Valence: Accuracy: 0.9375, F1score: 0.9373\n",
      "19 Fold Start\n",
      "Training Result\n",
      "Arousal: Accuracy: 0.8730, F1score: 0.8730\n",
      "Valence: Accuracy: 0.9453, F1score: 0.9451\n",
      "Validating Result\n",
      "Arousal: Accuracy: 0.9375, F1score: 0.9352\n",
      "Valence: Accuracy: 1.0000, F1score: 1.0000\n",
      "20 Fold Start\n",
      "Training Result\n",
      "Arousal: Accuracy: 0.8711, F1score: 0.8711\n",
      "Valence: Accuracy: 0.9492, F1score: 0.9491\n",
      "Validating Result\n",
      "Arousal: Accuracy: 1.0000, F1score: 1.0000\n",
      "Valence: Accuracy: 1.0000, F1score: 1.0000\n",
      "21 Fold Start\n",
      "Training Result\n",
      "Arousal: Accuracy: 0.8691, F1score: 0.8691\n",
      "Valence: Accuracy: 0.9453, F1score: 0.9452\n",
      "Validating Result\n",
      "Arousal: Accuracy: 1.0000, F1score: 1.0000\n",
      "Valence: Accuracy: 1.0000, F1score: 1.0000\n",
      "22 Fold Start\n",
      "Training Result\n",
      "Arousal: Accuracy: 0.8711, F1score: 0.8711\n",
      "Valence: Accuracy: 0.9473, F1score: 0.9471\n",
      "Validating Result\n",
      "Arousal: Accuracy: 0.6250, F1score: 0.6000\n",
      "Valence: Accuracy: 1.0000, F1score: 1.0000\n",
      "23 Fold Start\n",
      "Training Result\n",
      "Arousal: Accuracy: 0.8711, F1score: 0.8711\n",
      "Valence: Accuracy: 0.9453, F1score: 0.9451\n",
      "Validating Result\n",
      "Arousal: Accuracy: 0.8750, F1score: 0.8667\n",
      "Valence: Accuracy: 1.0000, F1score: 1.0000\n",
      "24 Fold Start\n",
      "Training Result\n",
      "Arousal: Accuracy: 0.8867, F1score: 0.8867\n",
      "Valence: Accuracy: 0.9473, F1score: 0.9471\n",
      "Validating Result\n",
      "Arousal: Accuracy: 0.9375, F1score: 0.9352\n",
      "Valence: Accuracy: 0.9375, F1score: 0.9373\n",
      "25 Fold Start\n",
      "Training Result\n",
      "Arousal: Accuracy: 0.8809, F1score: 0.8809\n",
      "Valence: Accuracy: 0.9453, F1score: 0.9451\n",
      "Validating Result\n",
      "Arousal: Accuracy: 0.8125, F1score: 0.7922\n",
      "Valence: Accuracy: 1.0000, F1score: 1.0000\n",
      "26 Fold Start\n",
      "Training Result\n",
      "Arousal: Accuracy: 0.8711, F1score: 0.8711\n",
      "Valence: Accuracy: 0.9453, F1score: 0.9451\n",
      "Validating Result\n",
      "Arousal: Accuracy: 0.6875, F1score: 0.6761\n",
      "Valence: Accuracy: 0.8750, F1score: 0.8730\n",
      "27 Fold Start\n",
      "Training Result\n",
      "Arousal: Accuracy: 0.8711, F1score: 0.8711\n",
      "Valence: Accuracy: 0.9453, F1score: 0.9452\n",
      "Validating Result\n",
      "Arousal: Accuracy: 1.0000, F1score: 1.0000\n",
      "Valence: Accuracy: 1.0000, F1score: 1.0000\n",
      "28 Fold Start\n",
      "Training Result\n",
      "Arousal: Accuracy: 0.8711, F1score: 0.8711\n",
      "Valence: Accuracy: 0.9492, F1score: 0.9491\n",
      "Validating Result\n",
      "Arousal: Accuracy: 1.0000, F1score: 1.0000\n",
      "Valence: Accuracy: 0.9375, F1score: 0.9373\n",
      "29 Fold Start\n",
      "Training Result\n",
      "Arousal: Accuracy: 0.8691, F1score: 0.8691\n",
      "Valence: Accuracy: 0.9453, F1score: 0.9452\n",
      "Validating Result\n",
      "Arousal: Accuracy: 1.0000, F1score: 1.0000\n",
      "Valence: Accuracy: 1.0000, F1score: 1.0000\n",
      "30 Fold Start\n",
      "Training Result\n",
      "Arousal: Accuracy: 0.8711, F1score: 0.8710\n",
      "Valence: Accuracy: 0.9453, F1score: 0.9452\n",
      "Validating Result\n",
      "Arousal: Accuracy: 1.0000, F1score: 1.0000\n",
      "Valence: Accuracy: 1.0000, F1score: 1.0000\n",
      "31 Fold Start\n",
      "Training Result\n",
      "Arousal: Accuracy: 0.8711, F1score: 0.8711\n",
      "Valence: Accuracy: 0.9492, F1score: 0.9491\n",
      "Validating Result\n",
      "Arousal: Accuracy: 0.9375, F1score: 0.9373\n",
      "Valence: Accuracy: 1.0000, F1score: 1.0000\n",
      "32 Fold Start\n",
      "Training Result\n",
      "Arousal: Accuracy: 0.8711, F1score: 0.8711\n",
      "Valence: Accuracy: 0.9473, F1score: 0.9471\n",
      "Validating Result\n",
      "Arousal: Accuracy: 1.0000, F1score: 1.0000\n",
      "Valence: Accuracy: 0.9375, F1score: 0.9373\n",
      "33 Fold Start\n",
      "Training Result\n",
      "Arousal: Accuracy: 0.8730, F1score: 0.8730\n",
      "Valence: Accuracy: 0.9473, F1score: 0.9471\n",
      "Validating Result\n",
      "Arousal: Accuracy: 1.0000, F1score: 1.0000\n",
      "Valence: Accuracy: 0.9375, F1score: 0.9373\n"
     ]
    }
   ],
   "source": [
    "for idx, (train_idx, val_idx) in enumerate(kfold.split(amigos_data)):\n",
    "    print(idx + 1, 'Fold Start')\n",
    "\n",
    "    # collect data for cross validation\n",
    "    train_data, val_data = amigos_data[train_idx], amigos_data[val_idx]\n",
    "    train_a_labels, val_a_labels = a_labels[train_idx], a_labels[val_idx]\n",
    "    train_v_labels, val_v_labels = v_labels[train_idx], v_labels[val_idx]\n",
    "    \n",
    "    # map features to fit within range [-1,1]\n",
    "    train_data_max = np.max(train_data, axis=0)\n",
    "    train_data_min = np.min(train_data, axis=0)\n",
    "    train_data = (train_data - train_data_min) / (train_data_max - train_data_min)\n",
    "    train_data = train_data * 2 - 1\n",
    "    val_data_max = np.max(val_data, axis=0)\n",
    "    val_data_min = np.min(val_data, axis=0)\n",
    "    val_data = (val_data - val_data_min) / (val_data_max - val_data_min)\n",
    "    val_data = val_data * 2 - 1\n",
    "        \n",
    "    # fit feature selection\n",
    "    a_clf_select.fit(train_data, train_a_labels)\n",
    "    v_clf_select.fit(train_data, train_v_labels)\n",
    "    train_a_data = a_clf_select.transform(train_data)\n",
    "    train_v_data = v_clf_select.transform(train_data)\n",
    "    val_a_data = a_clf_select.transform(val_data)\n",
    "    val_v_data = v_clf_select.transform(val_data)\n",
    "    a_idx = np.where(a_clf_select.ranking_ == 1)\n",
    "    v_idx = np.where(v_clf_select.ranking_ == 1)\n",
    "        \n",
    "    # fit classifier\n",
    "    a_clf.fit(train_a_data, train_a_labels)\n",
    "    v_clf.fit(train_v_data, train_v_labels)\n",
    "\n",
    "    # predict arousal and valence\n",
    "    train_a_predict_labels = a_clf.predict(train_a_data)\n",
    "    train_v_predict_labels = v_clf.predict(train_v_data)\n",
    "    val_a_predict_labels = a_clf.predict(val_a_data)\n",
    "    val_v_predict_labels = v_clf.predict(val_v_data)\n",
    "\n",
    "    # metrics (accuracy and f1 score) calculation\n",
    "    train_a_accuracy = accuracy_score(train_a_labels, train_a_predict_labels)\n",
    "    train_v_accuracy = accuracy_score(train_v_labels, train_v_predict_labels)\n",
    "    train_a_f1score = f1_score(train_a_labels, train_a_predict_labels, average='macro')\n",
    "    train_v_f1score = f1_score(train_v_labels, train_v_predict_labels, average='macro')\n",
    "    val_a_accuracy = accuracy_score(val_a_labels, val_a_predict_labels)\n",
    "    val_v_accuracy = accuracy_score(val_v_labels, val_v_predict_labels)\n",
    "    val_a_f1score = f1_score(val_a_labels, val_a_predict_labels, average='macro')\n",
    "    val_v_f1score = f1_score(val_v_labels, val_v_predict_labels, average='macro')\n",
    "\n",
    "    train_a_accuracy_history.append(train_a_accuracy)\n",
    "    train_v_accuracy_history.append(train_v_accuracy)\n",
    "    train_a_f1score_history.append(train_a_f1score)\n",
    "    train_v_f1score_history.append(train_v_f1score)\n",
    "    val_a_accuracy_history.append(val_a_accuracy)\n",
    "    val_v_accuracy_history.append(val_v_accuracy)\n",
    "    val_a_f1score_history.append(val_a_f1score)\n",
    "    val_v_f1score_history.append(val_v_f1score)\n",
    "\n",
    "    print('Training Result')\n",
    "    print(\"Arousal: Accuracy: {:.4f}, F1score: {:.4f}\".format(train_a_accuracy, train_a_f1score))\n",
    "    print(\"Valence: Accuracy: {:.4f}, F1score: {:.4f}\".format(train_v_accuracy, train_v_f1score))\n",
    "    print('Validating Result')\n",
    "    print(\"Arousal: Accuracy: {:.4f}, F1score: {:.4f}\".format(val_a_accuracy, val_a_f1score))\n",
    "    print(\"Valence: Accuracy: {:.4f}, F1score: {:.4f}\".format(val_v_accuracy, val_v_f1score))"
   ]
  },
  {
   "cell_type": "code",
   "execution_count": 14,
   "metadata": {},
   "outputs": [
    {
     "data": {
      "text/plain": [
       "(1, 150)"
      ]
     },
     "execution_count": 14,
     "metadata": {},
     "output_type": "execute_result"
    }
   ],
   "source": [
    "v_clf.dual_coef_.shape"
   ]
  },
  {
   "cell_type": "code",
   "execution_count": 15,
   "metadata": {},
   "outputs": [
    {
     "name": "stdout",
     "output_type": "stream",
     "text": [
      "\n",
      "Average Training Result\n",
      "Arousal => Accuracy: 0.8740, F1score: 0.8740\n",
      "Valence => Accuracy: 0.9479, F1score: 0.9478\n",
      "Average Validating Result\n",
      "Arousal => Accuracy: 0.9186, F1score: 0.9068\n",
      "Valence => Accuracy: 0.9659, F1score: 0.9605\n",
      "\n"
     ]
    }
   ],
   "source": [
    "print('\\nAverage Training Result')\n",
    "print(\"Arousal => Accuracy: {:.4f}, F1score: {:.4f}\".format(\n",
    "    np.mean(train_a_accuracy_history), np.mean(train_a_f1score_history)))\n",
    "print(\"Valence => Accuracy: {:.4f}, F1score: {:.4f}\".format(\n",
    "    np.mean(train_v_accuracy_history), np.mean(train_v_f1score_history)))\n",
    "print('Average Validating Result')\n",
    "print(\"Arousal => Accuracy: {:.4f}, F1score: {:.4f}\".format(\n",
    "    np.mean(val_a_accuracy_history), np.mean(val_a_f1score_history)))\n",
    "print(\"Valence => Accuracy: {:.4f}, F1score: {:.4f}\\n\".format(\n",
    "    np.mean(val_v_accuracy_history), np.mean(val_v_f1score_history)))"
   ]
  },
  {
   "cell_type": "code",
   "execution_count": null,
   "metadata": {},
   "outputs": [],
   "source": []
  }
 ],
 "metadata": {
  "kernelspec": {
   "display_name": "Python 3",
   "language": "python",
   "name": "python3"
  },
  "language_info": {
   "codemirror_mode": {
    "name": "ipython",
    "version": 3
   },
   "file_extension": ".py",
   "mimetype": "text/x-python",
   "name": "python",
   "nbconvert_exporter": "python",
   "pygments_lexer": "ipython3",
   "version": "3.8.8"
  }
 },
 "nbformat": 4,
 "nbformat_minor": 4
}
